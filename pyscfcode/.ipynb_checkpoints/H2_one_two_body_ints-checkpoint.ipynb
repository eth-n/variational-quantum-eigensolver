{
 "cells": [
  {
   "cell_type": "code",
   "execution_count": 1,
   "metadata": {},
   "outputs": [
    {
     "name": "stderr",
     "output_type": "stream",
     "text": [
      "Numpy 1.16 has memory leak bug  https://github.com/numpy/numpy/issues/13808\n",
      "It is recommended to downgrade to numpy 1.15 or older\n"
     ]
    }
   ],
   "source": [
    "import numpy\n",
    "from pyscf import gto, scf, df"
   ]
  },
  {
   "cell_type": "code",
   "execution_count": 2,
   "metadata": {},
   "outputs": [],
   "source": [
    "mol = gto.M(atom='h 0 0 0; h 0 0 0.741', basis='sto3g')\n"
   ]
  },
  {
   "cell_type": "code",
   "execution_count": 3,
   "metadata": {},
   "outputs": [],
   "source": [
    "hcore = mol.intor('int1e_nuc_sph') + mol.intor('int1e_kin_sph')\n",
    "overlap = mol.intor('int1e_ovlp_sph')\n",
    "eri = mol.intor('int2e_sph')\n"
   ]
  },
  {
   "cell_type": "code",
   "execution_count": 4,
   "metadata": {},
   "outputs": [
    {
     "name": "stdout",
     "output_type": "stream",
     "text": [
      "[[-1.12031048 -0.95820166]\n",
      " [-0.95820166 -1.12031048]]\n"
     ]
    }
   ],
   "source": [
    "print(hcore)"
   ]
  },
  {
   "cell_type": "code",
   "execution_count": 5,
   "metadata": {},
   "outputs": [
    {
     "name": "stdout",
     "output_type": "stream",
     "text": [
      "[[1.         0.65921882]\n",
      " [0.65921882 1.        ]]\n"
     ]
    }
   ],
   "source": [
    "print(overlap)"
   ]
  },
  {
   "cell_type": "code",
   "execution_count": 6,
   "metadata": {},
   "outputs": [
    {
     "name": "stdout",
     "output_type": "stream",
     "text": [
      "[[[[0.77460594 0.44402109]\n",
      "   [0.44402109 0.56961881]]\n",
      "\n",
      "  [[0.44402109 0.29692795]\n",
      "   [0.29692795 0.44402109]]]\n",
      "\n",
      "\n",
      " [[[0.44402109 0.29692795]\n",
      "   [0.29692795 0.44402109]]\n",
      "\n",
      "  [[0.56961881 0.44402109]\n",
      "   [0.44402109 0.77460594]]]]\n"
     ]
    }
   ],
   "source": [
    "print(eri)"
   ]
  },
  {
   "cell_type": "code",
   "execution_count": null,
   "metadata": {},
   "outputs": [],
   "source": []
  }
 ],
 "metadata": {
  "kernelspec": {
   "display_name": "Python 3",
   "language": "python",
   "name": "python3"
  },
  "language_info": {
   "codemirror_mode": {
    "name": "ipython",
    "version": 3
   },
   "file_extension": ".py",
   "mimetype": "text/x-python",
   "name": "python",
   "nbconvert_exporter": "python",
   "pygments_lexer": "ipython3",
   "version": "3.7.3"
  }
 },
 "nbformat": 4,
 "nbformat_minor": 2
}
