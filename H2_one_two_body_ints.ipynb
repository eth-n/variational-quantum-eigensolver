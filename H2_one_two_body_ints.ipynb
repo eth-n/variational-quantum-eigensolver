{
 "cells": [
  {
   "cell_type": "code",
   "execution_count": 2,
   "metadata": {},
   "outputs": [],
   "source": [
    "import numpy\n",
    "from pyscf import gto, scf, df"
   ]
  },
  {
   "cell_type": "code",
   "execution_count": 4,
   "metadata": {
    "scrolled": false
   },
   "outputs": [],
   "source": [
    "mol_h2 = gto.M(atom='h 0 0 0; h 0 0 0.741', basis='sto3g')\n",
    "mol_heh = gto.M(atom='he 0 0 0; h 0 0 0.741', charge=1, basis='sto3g')\n",
    "mol_li2 = gto.M(atom='li 0 0 0; li 0 0 0.741', basis='sto3g')"
   ]
  },
  {
   "cell_type": "code",
   "execution_count": 5,
   "metadata": {},
   "outputs": [
    {
     "name": "stdout",
     "output_type": "stream",
     "text": [
      "atoms and associated atomic orbitals: ['0 H 1s    ', '1 H 1s    ']\n",
      "number of shells: 2\n",
      "number of atomic orbitals: 2\n"
     ]
    }
   ],
   "source": [
    "# '[atom number in molecule] [atom] [atomic orbital]'\n",
    "print(\"atoms and associated atomic orbitals:\", mol_h2.ao_labels())\n",
    "\n",
    "# nbas: number of shells (counts 2px, 2py, 2pz as one)\n",
    "print(\"number of shells:\", mol_h2.nbas)\n",
    "\n",
    "# nao: number of atomic orbitals\n",
    "print(\"number of atomic orbitals:\", mol_h2.nao)"
   ]
  },
  {
   "cell_type": "code",
   "execution_count": 11,
   "metadata": {},
   "outputs": [
    {
     "name": "stdout",
     "output_type": "stream",
     "text": [
      "converged SCF energy = -2.83410218317347\n"
     ]
    },
    {
     "data": {
      "text/plain": [
       "-2.8341021831734654"
      ]
     },
     "execution_count": 11,
     "metadata": {},
     "output_type": "execute_result"
    }
   ],
   "source": [
    "myhf = scf.HF(mol_heh)\n",
    "myhf.kernel()"
   ]
  },
  {
   "cell_type": "code",
   "execution_count": 12,
   "metadata": {},
   "outputs": [],
   "source": [
    "mol = mol_heh\n",
    "# One body integrals: E = T + U\n",
    "one_body = mol.intor('int1e_kin_sph') + mol.intor('int1e_nuc_sph')\n",
    "\n",
    "# Atomic orbital overlap?\n",
    "# overlap = mol.intor('int1e_ovlp_sph')\n",
    "\n",
    "# Two body integrals: electron repulsion integrals\n",
    "eri = mol.intor('int2e_sph')\n"
   ]
  },
  {
   "cell_type": "code",
   "execution_count": 13,
   "metadata": {
    "scrolled": false
   },
   "outputs": [
    {
     "name": "stdout",
     "output_type": "stream",
     "text": [
      "[[-2.62477917 -1.50839758]\n",
      " [-1.50839758 -1.77403912]]\n"
     ]
    }
   ],
   "source": [
    "print(one_body)"
   ]
  },
  {
   "cell_type": "code",
   "execution_count": 14,
   "metadata": {
    "scrolled": true
   },
   "outputs": [],
   "source": [
    "# print(overlap)"
   ]
  },
  {
   "cell_type": "code",
   "execution_count": 15,
   "metadata": {
    "scrolled": true
   },
   "outputs": [
    {
     "name": "stdout",
     "output_type": "stream",
     "text": [
      "[[[[1.05571294 0.46784056]\n",
      "   [0.46784056 0.6063442 ]]\n",
      "\n",
      "  [[0.46784056 0.24654644]\n",
      "   [0.24654644 0.38853706]]]\n",
      "\n",
      "\n",
      " [[[0.46784056 0.24654644]\n",
      "   [0.24654644 0.38853706]]\n",
      "\n",
      "  [[0.6063442  0.38853706]\n",
      "   [0.38853706 0.77460594]]]]\n"
     ]
    }
   ],
   "source": [
    "print(eri)"
   ]
  },
  {
   "cell_type": "code",
   "execution_count": null,
   "metadata": {},
   "outputs": [],
   "source": []
  }
 ],
 "metadata": {
  "kernelspec": {
   "display_name": "Python 3",
   "language": "python",
   "name": "python3"
  },
  "language_info": {
   "codemirror_mode": {
    "name": "ipython",
    "version": 3
   },
   "file_extension": ".py",
   "mimetype": "text/x-python",
   "name": "python",
   "nbconvert_exporter": "python",
   "pygments_lexer": "ipython3",
   "version": "3.7.3"
  }
 },
 "nbformat": 4,
 "nbformat_minor": 2
}
